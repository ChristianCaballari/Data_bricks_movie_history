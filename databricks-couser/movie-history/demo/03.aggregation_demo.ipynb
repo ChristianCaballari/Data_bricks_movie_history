{
 "cells": [
  {
   "cell_type": "markdown",
   "metadata": {
    "application/vnd.databricks.v1+cell": {
     "cellMetadata": {},
     "inputWidgets": {},
     "nuid": "b02aa237-c77c-43f1-b0c0-fff6a0d8b728",
     "showTitle": false,
     "tableResultSettingsMap": {},
     "title": ""
    }
   },
   "source": [
    "### Spark Aggregate Functions"
   ]
  },
  {
   "cell_type": "markdown",
   "metadata": {
    "application/vnd.databricks.v1+cell": {
     "cellMetadata": {},
     "inputWidgets": {},
     "nuid": "12d17854-d1ff-47ba-8411-827f7c0dd7aa",
     "showTitle": false,
     "tableResultSettingsMap": {},
     "title": ""
    }
   },
   "source": [
    "#### Funciones simples de agregacion"
   ]
  },
  {
   "cell_type": "code",
   "execution_count": 0,
   "metadata": {
    "application/vnd.databricks.v1+cell": {
     "cellMetadata": {
      "byteLimit": 2048000,
      "rowLimit": 10000
     },
     "inputWidgets": {},
     "nuid": "fb5f9dbf-f41f-4d81-b084-07ab1ebb2b54",
     "showTitle": false,
     "tableResultSettingsMap": {},
     "title": ""
    }
   },
   "outputs": [],
   "source": [
    "%run \"../includes/configuration\""
   ]
  },
  {
   "cell_type": "code",
   "execution_count": 0,
   "metadata": {
    "application/vnd.databricks.v1+cell": {
     "cellMetadata": {
      "byteLimit": 2048000,
      "rowLimit": 10000
     },
     "inputWidgets": {},
     "nuid": "c831e069-dce4-4665-84a3-f0260784d7e8",
     "showTitle": false,
     "tableResultSettingsMap": {},
     "title": ""
    }
   },
   "outputs": [],
   "source": [
    "movies_df = spark.read.parquet(f\"{silver_folder_path}/movies\")"
   ]
  },
  {
   "cell_type": "code",
   "execution_count": 0,
   "metadata": {
    "application/vnd.databricks.v1+cell": {
     "cellMetadata": {
      "byteLimit": 2048000,
      "rowLimit": 10000
     },
     "inputWidgets": {},
     "nuid": "2321f492-bed5-4013-9867-c254ee612612",
     "showTitle": false,
     "tableResultSettingsMap": {},
     "title": ""
    }
   },
   "outputs": [],
   "source": [
    "from pyspark.sql.functions import count, countDistinct, sum"
   ]
  },
  {
   "cell_type": "code",
   "execution_count": 0,
   "metadata": {
    "application/vnd.databricks.v1+cell": {
     "cellMetadata": {
      "byteLimit": 2048000,
      "rowLimit": 10000
     },
     "inputWidgets": {},
     "nuid": "3f8dc454-d2e7-41b2-9811-1c24bc18848a",
     "showTitle": false,
     "tableResultSettingsMap": {},
     "title": ""
    }
   },
   "outputs": [],
   "source": [
    "movies_df.select(count(\"*\")).show()"
   ]
  },
  {
   "cell_type": "code",
   "execution_count": 0,
   "metadata": {
    "application/vnd.databricks.v1+cell": {
     "cellMetadata": {
      "byteLimit": 2048000,
      "rowLimit": 10000
     },
     "inputWidgets": {},
     "nuid": "f9f8f0e5-7293-4419-a0bb-ca68aac6f1dc",
     "showTitle": false,
     "tableResultSettingsMap": {},
     "title": ""
    }
   },
   "outputs": [],
   "source": [
    "# Cuando hacemos conteo por una columna especifica, solo cuenta los valores que no son nulos\n",
    "movies_df.select(count(\"year_release_date\")).show()"
   ]
  },
  {
   "cell_type": "code",
   "execution_count": 0,
   "metadata": {
    "application/vnd.databricks.v1+cell": {
     "cellMetadata": {
      "byteLimit": 2048000,
      "rowLimit": 10000
     },
     "inputWidgets": {},
     "nuid": "113f028e-65c4-49e4-9189-213a6a7e4401",
     "showTitle": false,
     "tableResultSettingsMap": {},
     "title": ""
    }
   },
   "outputs": [],
   "source": [
    "# Cuenta los distintos valores, fechas sin repetir\n",
    "movies_df.select(countDistinct(\"year_release_date\")).show()"
   ]
  },
  {
   "cell_type": "code",
   "execution_count": 0,
   "metadata": {
    "application/vnd.databricks.v1+cell": {
     "cellMetadata": {
      "byteLimit": 2048000,
      "rowLimit": 10000
     },
     "collapsed": true,
     "inputWidgets": {},
     "nuid": "d0485edf-ba71-4d16-9fa7-ff52eada6aba",
     "showTitle": false,
     "tableResultSettingsMap": {},
     "title": ""
    }
   },
   "outputs": [],
   "source": [
    "movies_df.select(sum(\"budget\")).display()"
   ]
  },
  {
   "cell_type": "code",
   "execution_count": 0,
   "metadata": {
    "application/vnd.databricks.v1+cell": {
     "cellMetadata": {
      "byteLimit": 2048000,
      "rowLimit": 10000
     },
     "collapsed": true,
     "inputWidgets": {},
     "nuid": "687fd55e-ac5a-4688-9a56-f20a94e652c9",
     "showTitle": false,
     "tableResultSettingsMap": {},
     "title": ""
    }
   },
   "outputs": [],
   "source": [
    "# Usamos combinacion de funciones de agregacion (sum, count) y filtramos por year_release_date == 2016 y renombramos columnas\n",
    "movies_df.filter(\"year_release_date == 2016\") \\\n",
    "        .select(sum(\"budget\"), count(\"movie_id\")) \\\n",
    "        .withColumnRenamed(\"sum(budget)\", \"total_budget\") \\\n",
    "        .withColumnRenamed(\"count(movie_id)\", \"count_movies\") \\\n",
    "        .display()"
   ]
  },
  {
   "cell_type": "markdown",
   "metadata": {
    "application/vnd.databricks.v1+cell": {
     "cellMetadata": {},
     "inputWidgets": {},
     "nuid": "749fc3c1-a8f8-4202-bbe3-7606ddf0e6fc",
     "showTitle": false,
     "tableResultSettingsMap": {},
     "title": ""
    }
   },
   "source": [
    "### Group By"
   ]
  },
  {
   "cell_type": "code",
   "execution_count": 0,
   "metadata": {
    "application/vnd.databricks.v1+cell": {
     "cellMetadata": {
      "byteLimit": 2048000,
      "rowLimit": 10000
     },
     "inputWidgets": {},
     "nuid": "bc382a80-7267-4099-b3db-78725cc8ba69",
     "showTitle": false,
     "tableResultSettingsMap": {},
     "title": ""
    }
   },
   "outputs": [],
   "source": [
    "from pyspark.sql.functions import count, countDistinct, sum, max, min, avg"
   ]
  },
  {
   "cell_type": "code",
   "execution_count": 0,
   "metadata": {
    "application/vnd.databricks.v1+cell": {
     "cellMetadata": {
      "byteLimit": 2048000,
      "rowLimit": 10000
     },
     "collapsed": true,
     "inputWidgets": {},
     "nuid": "c4c611f3-edaa-4cd7-ab30-16abed275d63",
     "showTitle": false,
     "tableResultSettingsMap": {},
     "title": ""
    }
   },
   "outputs": [],
   "source": [
    "# Agrupamos por la columna year_release_date y apartir de la agrupacion de esta columna, va hacer una sumatoria correspondiente a cada agrupacion\n",
    "\n",
    "# Entonces nos devuelve la sumatoria correspondiente a la agrupacion por año\n",
    "movies_df \\\n",
    "    .groupBy(\"year_release_date\") \\\n",
    "        .sum(\"budget\") \\\n",
    "        .display()"
   ]
  },
  {
   "cell_type": "code",
   "execution_count": 0,
   "metadata": {
    "application/vnd.databricks.v1+cell": {
     "cellMetadata": {
      "byteLimit": 2048000,
      "rowLimit": 10000
     },
     "collapsed": true,
     "inputWidgets": {},
     "nuid": "05d98f12-09ec-4eea-ade9-0b27b1c592e9",
     "showTitle": false,
     "tableResultSettingsMap": {},
     "title": ""
    }
   },
   "outputs": [],
   "source": [
    "# Como haria para saber cual es el maximo presupuesto por año?\n",
    "\n",
    "# 1 - Cuando nosotros hacemos una agregacion por una columna, unicamente podemos usar una funcion de agregacion.\n",
    "# 2 - Si utilizamos mas de una funcion de agregacion nos devuelve un error max is not supported.\n",
    "# 3 - Para usar mas de dos funciones de agregacion, Databricks nos da la posibilidad de usar el metodo agg()\n",
    "\n",
    "movies_df \\\n",
    "    .groupBy(\"year_release_date\") \\\n",
    "        .sum(\"budget\") \\\n",
    "        .max(\"budget\") \\\n",
    "        .display()"
   ]
  },
  {
   "cell_type": "code",
   "execution_count": 0,
   "metadata": {
    "application/vnd.databricks.v1+cell": {
     "cellMetadata": {
      "byteLimit": 2048000,
      "rowLimit": 10000
     },
     "inputWidgets": {},
     "nuid": "b0aaa0cb-4189-48ae-a5cc-d6091b0c6777",
     "showTitle": false,
     "tableResultSettingsMap": {},
     "title": ""
    }
   },
   "outputs": [],
   "source": [
    "# Usar la funcion agg()\n",
    "# Agrupamos por la columna year_release_date y apartir de la agrupacion de esta columna, hacemos cada una de las funciones de agregacion,sum, avg, max, min, count\n",
    "\n",
    "#.alias, podemos cambiar el nombre de las columnas\n",
    "movie_group_by_df  = movies_df \\\n",
    "    .groupBy(\"year_release_date\") \\\n",
    "        .agg(\n",
    "            sum(\"budget\").alias(\"total_budget\"),\n",
    "            avg(\"budget\").alias(\"avg_budget\"),\n",
    "            max(\"budget\").alias(\"max_budget\"),\n",
    "            min(\"budget\").alias(\"min_budget\"),\n",
    "            count(\"movie_id\").alias(\"count_movies\"),\n",
    "        )"
   ]
  },
  {
   "cell_type": "code",
   "execution_count": 0,
   "metadata": {
    "application/vnd.databricks.v1+cell": {
     "cellMetadata": {
      "byteLimit": 2048000,
      "rowLimit": 10000
     },
     "collapsed": true,
     "inputWidgets": {},
     "nuid": "0ecdf5eb-0a3f-4165-893c-a0494951e2f1",
     "showTitle": false,
     "tableResultSettingsMap": {},
     "title": ""
    }
   },
   "outputs": [],
   "source": [
    "display(movie_group_by_df)"
   ]
  },
  {
   "cell_type": "markdown",
   "metadata": {
    "application/vnd.databricks.v1+cell": {
     "cellMetadata": {},
     "inputWidgets": {},
     "nuid": "c64878c4-3045-4989-ac05-26ec19f01ab3",
     "showTitle": false,
     "tableResultSettingsMap": {},
     "title": ""
    }
   },
   "source": [
    "### Window Functions\n",
    "\n",
    "- Permiten realizar calculos sobre un subconjunto de filas relacionadas con la fila actual sin necesidad de agrupar el conjunto de dato completo como ocurre con las funciones de agregacion standard\n",
    "- Estas funciones son ideales para tareas como calcular totales acumulados, identificar valores maximos por grupos y agregamar valores entre filas adyacentes mateniendo la granularidad del Data Frame Original"
   ]
  },
  {
   "cell_type": "code",
   "execution_count": 0,
   "metadata": {
    "application/vnd.databricks.v1+cell": {
     "cellMetadata": {
      "byteLimit": 2048000,
      "rowLimit": 10000
     },
     "inputWidgets": {},
     "nuid": "9ee101ed-858c-4c81-b2ce-aed91e62c0a4",
     "showTitle": false,
     "tableResultSettingsMap": {},
     "title": ""
    }
   },
   "outputs": [],
   "source": [
    "from pyspark.sql.window import Window\n",
    "from pyspark.sql.functions import rank, desc, dense_rank"
   ]
  },
  {
   "cell_type": "code",
   "execution_count": 0,
   "metadata": {
    "application/vnd.databricks.v1+cell": {
     "cellMetadata": {
      "byteLimit": 2048000,
      "rowLimit": 10000
     },
     "inputWidgets": {},
     "nuid": "a1482c03-ccc6-44ea-8721-f7e75066d801",
     "showTitle": false,
     "tableResultSettingsMap": {},
     "title": ""
    }
   },
   "outputs": [],
   "source": [
    "# Estas funciones de ventana tienen el mismo concepto como si estuvieras trabajando con SQL\n",
    "\n",
    "# Agregar una columna adicional llamada rank, en donde haga un ranking sobre las peliculas pero ordenado de manera descendente a partir del presupuesto (budget)\n",
    "\n",
    "# dense_rank(), establece un ranking consecutivo, en donde si hay dos o mas peliculas con el mismo presupuesto, se les asigna el mismo rank\n",
    "\n",
    "movie_rank = Window.partitionBy(\"year_release_date\").orderBy(desc(\"budget\"))\n",
    "\n",
    "movie_dense_rank = Window.partitionBy(\"year_release_date\").orderBy(desc(\"budget\"))\n",
    "\n",
    "movies_df.select(\"title\",\"budget\",\"year_release_date\") \\\n",
    "        .filter(\"year_release_date is not null\") \\\n",
    "        .withColumn(\"rank\", rank().over(movie_rank)) \\\n",
    "        .withColumn(\"dense_rank\", dense_rank().over(movie_dense_rank)) \\\n",
    "        .display()"
   ]
  },
  {
   "cell_type": "markdown",
   "metadata": {
    "application/vnd.databricks.v1+cell": {
     "cellMetadata": {},
     "inputWidgets": {},
     "nuid": "69f91bb2-04ae-4c1f-b110-8f1e1136c8de",
     "showTitle": false,
     "tableResultSettingsMap": {},
     "title": ""
    }
   },
   "source": [
    "- se requiere obtener informacion sobre el \"total de presupuesto\" y el \"total de ingresos\" de las \"peliculas\" donde el \"año de fecha de lanzamiento\" debe ser mayor o igual a 2015, tambien debe estar agrupado por el \"año de fecha de lanzamiento\" y el \"genero\" al que pertenece cada pelicula.\n",
    "\n",
    "- Tambien se requiere realizar un ranking de manera ascendente por el \"total de presupuesto\" y el \"total de ingresos\" particionado por \"año de fecha de lanzamiento\""
   ]
  }
 ],
 "metadata": {
  "application/vnd.databricks.v1+notebook": {
   "computePreferences": null,
   "dashboards": [],
   "environmentMetadata": {
    "base_environment": "",
    "environment_version": "2"
   },
   "inputWidgetPreferences": null,
   "language": "python",
   "notebookMetadata": {
    "pythonIndentUnit": 4
   },
   "notebookName": "03.aggregation_demo",
   "widgets": {}
  },
  "language_info": {
   "name": "python"
  }
 },
 "nbformat": 4,
 "nbformat_minor": 0
}
