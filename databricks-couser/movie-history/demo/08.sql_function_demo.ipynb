{
 "cells": [
  {
   "cell_type": "markdown",
   "metadata": {
    "application/vnd.databricks.v1+cell": {
     "cellMetadata": {},
     "inputWidgets": {},
     "nuid": "60774532-668e-4f68-89a9-9be34c0f2bf7",
     "showTitle": false,
     "tableResultSettingsMap": {},
     "title": ""
    }
   },
   "source": [
    "#### Scalar Functions(Funciones Escalares)\n",
    "\n",
    "1. Funciones Scalares devuelve un único valor por cada fila.\n",
    "2. Funciones de Agregacion, devuelve un único valor que resumen multiples filas."
   ]
  },
  {
   "cell_type": "code",
   "execution_count": 0,
   "metadata": {
    "application/vnd.databricks.v1+cell": {
     "cellMetadata": {
      "byteLimit": 2048000,
      "rowLimit": 10000
     },
     "inputWidgets": {},
     "nuid": "a5431108-54bf-4bdd-997d-f7d145f1d8e4",
     "showTitle": false,
     "tableResultSettingsMap": {},
     "title": ""
    }
   },
   "outputs": [],
   "source": [
    "USE movie_silver;"
   ]
  },
  {
   "cell_type": "markdown",
   "metadata": {
    "application/vnd.databricks.v1+cell": {
     "cellMetadata": {},
     "inputWidgets": {},
     "nuid": "d0f27d06-c84c-466b-b348-0849cdeda6a6",
     "showTitle": false,
     "tableResultSettingsMap": {},
     "title": ""
    }
   },
   "source": [
    "1. Concatenar"
   ]
  },
  {
   "cell_type": "code",
   "execution_count": 0,
   "metadata": {
    "application/vnd.databricks.v1+cell": {
     "cellMetadata": {
      "byteLimit": 2048000,
      "rowLimit": 10000
     },
     "collapsed": true,
     "inputWidgets": {},
     "nuid": "1026d821-5b0e-4feb-a566-adf9bcc83376",
     "showTitle": false,
     "tableResultSettingsMap": {},
     "title": ""
    }
   },
   "outputs": [],
   "source": [
    "SELECT *, CONCAT(title,\" \",release_date) AS title_with_release_date\n",
    "FROM movies;"
   ]
  },
  {
   "cell_type": "markdown",
   "metadata": {
    "application/vnd.databricks.v1+cell": {
     "cellMetadata": {},
     "inputWidgets": {},
     "nuid": "0ca81f93-3de7-4ffc-a59c-e8f3a1488abe",
     "showTitle": false,
     "tableResultSettingsMap": {},
     "title": ""
    }
   },
   "source": [
    "2. SPLIT"
   ]
  },
  {
   "cell_type": "code",
   "execution_count": 0,
   "metadata": {
    "application/vnd.databricks.v1+cell": {
     "cellMetadata": {
      "byteLimit": 2048000,
      "rowLimit": 10000
     },
     "collapsed": true,
     "inputWidgets": {},
     "nuid": "144ad6e6-9eae-4007-955c-a5b1f08b8468",
     "showTitle": false,
     "tableResultSettingsMap": {},
     "title": ""
    }
   },
   "outputs": [],
   "source": [
    "SELECT *, SPLIT(name,' ')[0] forename, SPLIT(name, ' ')[2] surname FROM persons;"
   ]
  },
  {
   "cell_type": "markdown",
   "metadata": {
    "application/vnd.databricks.v1+cell": {
     "cellMetadata": {},
     "inputWidgets": {},
     "nuid": "cfdba2c1-e90f-4467-9fc4-aca5f3af2327",
     "showTitle": false,
     "tableResultSettingsMap": {},
     "title": ""
    }
   },
   "source": [
    "3. CURRENT_TIMESTAMP()"
   ]
  },
  {
   "cell_type": "code",
   "execution_count": 0,
   "metadata": {
    "application/vnd.databricks.v1+cell": {
     "cellMetadata": {
      "byteLimit": 2048000,
      "rowLimit": 10000
     },
     "collapsed": true,
     "inputWidgets": {},
     "nuid": "60110ea2-2b3f-46aa-a68c-1856764ceff1",
     "showTitle": false,
     "tableResultSettingsMap": {},
     "title": ""
    }
   },
   "outputs": [],
   "source": [
    "SELECT *, CURRENT_TIMESTAMP() FROM movies;"
   ]
  },
  {
   "cell_type": "markdown",
   "metadata": {
    "application/vnd.databricks.v1+cell": {
     "cellMetadata": {},
     "inputWidgets": {},
     "nuid": "8a3fc340-229d-4c07-8ca2-7ac9b99ce182",
     "showTitle": false,
     "tableResultSettingsMap": {},
     "title": ""
    }
   },
   "source": [
    "4. DATE_FORMAT(fecha, \"formato\")"
   ]
  },
  {
   "cell_type": "code",
   "execution_count": 0,
   "metadata": {
    "application/vnd.databricks.v1+cell": {
     "cellMetadata": {
      "byteLimit": 2048000,
      "rowLimit": 10000
     },
     "collapsed": true,
     "inputWidgets": {},
     "nuid": "b932dc18-f008-4ebb-b77e-ee3aa2abfcad",
     "showTitle": false,
     "tableResultSettingsMap": {},
     "title": ""
    }
   },
   "outputs": [],
   "source": [
    "SELECT  *, DATE_FORMAT(release_date,\"dd-MM-yyyy\") FROM movies;"
   ]
  },
  {
   "cell_type": "markdown",
   "metadata": {
    "application/vnd.databricks.v1+cell": {
     "cellMetadata": {},
     "inputWidgets": {},
     "nuid": "2f9c1c66-c151-4342-8b8c-31ab12676505",
     "showTitle": false,
     "tableResultSettingsMap": {},
     "title": ""
    }
   },
   "source": [
    "5. DATE_ADD(fecha,cantidad dias)"
   ]
  },
  {
   "cell_type": "code",
   "execution_count": 0,
   "metadata": {
    "application/vnd.databricks.v1+cell": {
     "cellMetadata": {
      "byteLimit": 2048000,
      "rowLimit": 10000
     },
     "collapsed": true,
     "inputWidgets": {},
     "nuid": "0a9cbd15-3818-4b61-80b2-672d829a57bf",
     "showTitle": false,
     "tableResultSettingsMap": {},
     "title": ""
    }
   },
   "outputs": [],
   "source": [
    "SELECT *, DATE_ADD(release_date,1)\n",
    "FROM movies;"
   ]
  },
  {
   "cell_type": "markdown",
   "metadata": {
    "application/vnd.databricks.v1+cell": {
     "cellMetadata": {},
     "inputWidgets": {},
     "nuid": "ad18a159-6e10-4e95-b22f-20a73eb66334",
     "showTitle": false,
     "tableResultSettingsMap": {},
     "title": ""
    }
   },
   "source": [
    "#### Agregate Functions (Funciones de Agregacion)\n",
    "\n",
    "1. Permiten realizar calculos sobre un conjunto de filas y devolver un unico valor como resultado\n",
    "2. Se usan comunmente con las clausulas HAVING Y GROUP BY para resumir datos en categorias"
   ]
  },
  {
   "cell_type": "code",
   "execution_count": 0,
   "metadata": {
    "application/vnd.databricks.v1+cell": {
     "cellMetadata": {
      "byteLimit": 2048000,
      "rowLimit": 10000
     },
     "collapsed": true,
     "inputWidgets": {},
     "nuid": "62bf7aaf-4ac8-4510-83de-8ccdbdaea80a",
     "showTitle": false,
     "tableResultSettingsMap": {},
     "title": ""
    }
   },
   "outputs": [],
   "source": [
    "SELECT COUNT(1)\n",
    "FROM movies;"
   ]
  },
  {
   "cell_type": "code",
   "execution_count": 0,
   "metadata": {
    "application/vnd.databricks.v1+cell": {
     "cellMetadata": {
      "byteLimit": 2048000,
      "rowLimit": 10000
     },
     "collapsed": true,
     "inputWidgets": {},
     "nuid": "62a6b39a-b5a7-4504-ad3b-e5538ab3fa36",
     "showTitle": false,
     "tableResultSettingsMap": {},
     "title": ""
    }
   },
   "outputs": [],
   "source": [
    "SELECT MAX(release_date) FROM movies;"
   ]
  },
  {
   "cell_type": "code",
   "execution_count": 0,
   "metadata": {
    "application/vnd.databricks.v1+cell": {
     "cellMetadata": {
      "byteLimit": 2048000,
      "rowLimit": 10000
     },
     "collapsed": true,
     "inputWidgets": {},
     "nuid": "4bc71878-38b0-45d4-b07e-727b1b9eda1e",
     "showTitle": false,
     "tableResultSettingsMap": {},
     "title": ""
    }
   },
   "outputs": [],
   "source": [
    "SELECT *\n",
    "FROM movies\n",
    "WHERE year_release_date = 2010;"
   ]
  },
  {
   "cell_type": "markdown",
   "metadata": {
    "application/vnd.databricks.v1+cell": {
     "cellMetadata": {},
     "inputWidgets": {},
     "nuid": "4dfbb81b-0a60-4568-a0bd-529002bb48fb",
     "showTitle": false,
     "tableResultSettingsMap": {},
     "title": ""
    }
   },
   "source": [
    "1. Saber la cantidad de registros correspondiente a la fecha de lanzamiento.\n",
    "\n",
    "2. Se agrupan los valores por la columna year_release_date. \n",
    "3. Se usa COUNT para contar los valores que estan agrupados por año.\n",
    "4. Aplicar un filtro (HAVING) sobre el resultado de total_count\n",
    "5. Usar SUM para sumar los valores correspondiente al budget\n",
    "6. Usar MAX para saber el presupuesto maximo budget para cada movie\n",
    "7. Usar MIN para saber el presupuesto minimo budget para cada movie\n",
    "8. Usar AVG para saber el presupuesto promedio para cada movie"
   ]
  },
  {
   "cell_type": "code",
   "execution_count": 0,
   "metadata": {
    "application/vnd.databricks.v1+cell": {
     "cellMetadata": {
      "byteLimit": 2048000,
      "rowLimit": 10000
     },
     "collapsed": true,
     "inputWidgets": {},
     "nuid": "23f4a2d1-5555-4e2c-ab01-eb40d3adb6df",
     "showTitle": false,
     "tableResultSettingsMap": {},
     "title": ""
    }
   },
   "outputs": [],
   "source": [
    "SELECT year_release_date, COUNT(1) AS total_count, SUM(budget) AS sum_budget,\n",
    "MAX(budget) AS max_budget, MIN(budget) AS min_budget, AVG(budget) AS avg_budget\n",
    "FROM movies\n",
    "GROUP BY year_release_date\n",
    "HAVING total_count > 220\n",
    "ORDER BY year_release_date;"
   ]
  },
  {
   "cell_type": "markdown",
   "metadata": {
    "application/vnd.databricks.v1+cell": {
     "cellMetadata": {},
     "inputWidgets": {},
     "nuid": "8f14ff7c-9646-4721-bcc2-5a9e51756dd6",
     "showTitle": false,
     "tableResultSettingsMap": {},
     "title": ""
    }
   },
   "source": [
    "#### Window Functions (Funciones de Ventana)\n",
    "\n",
    "1. Son funciones avanzadas que te permiten realizar calculos en un conjunto de filas relacionadas en reducir el numero total de filas en el resultado.\n",
    "2. Son muy utiles para analizar datos y crear calculos acumulativos, rangos, promedios moviles etc...\n",
    "\n",
    "3. Se particionaron los datos apartir de la columna year_release_date y hemos ordenado por release_date\n",
    "\n",
    "- La función RANK() en SQL se utiliza para asignar un número de clasificación a las filas dentro de una partición (grupo de filas) según un criterio específico de ordenación. En otras palabras, te permite ordenar los resultados de una consulta y asignar un \"rango\" o posición a cada fila según ese orden."
   ]
  },
  {
   "cell_type": "code",
   "execution_count": 0,
   "metadata": {
    "application/vnd.databricks.v1+cell": {
     "cellMetadata": {
      "byteLimit": 2048000,
      "rowLimit": 10000
     },
     "inputWidgets": {},
     "nuid": "9d7c84aa-03d6-492c-99d3-58312cb6da6e",
     "showTitle": false,
     "tableResultSettingsMap": {},
     "title": ""
    }
   },
   "outputs": [],
   "source": [
    "SELECT title, year_release_date, release_date,\n",
    "       RANK() OVER (PARTITION BY year_release_date ORDER BY release_date DESC) AS rank\n",
    "FROM movies\n",
    "WHERE year_release_date IS NOT NULL\n",
    "ORDER BY release_date;\n"
   ]
  }
 ],
 "metadata": {
  "application/vnd.databricks.v1+notebook": {
   "computePreferences": null,
   "dashboards": [],
   "environmentMetadata": {
    "base_environment": "",
    "environment_version": "2"
   },
   "inputWidgetPreferences": null,
   "language": "sql",
   "notebookMetadata": {},
   "notebookName": "08.sql_function_demo",
   "widgets": {}
  },
  "language_info": {
   "name": "sql"
  }
 },
 "nbformat": 4,
 "nbformat_minor": 0
}
