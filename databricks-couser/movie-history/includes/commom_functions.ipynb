{
 "cells": [
  {
   "cell_type": "code",
   "execution_count": 0,
   "metadata": {
    "application/vnd.databricks.v1+cell": {
     "cellMetadata": {},
     "inputWidgets": {},
     "nuid": "2b8e5c68-72b5-4b59-9f90-e725ec7dddd2",
     "showTitle": false,
     "tableResultSettingsMap": {},
     "title": ""
    }
   },
   "outputs": [],
   "source": [
    "from pyspark.sql.functions import current_timestamp\n",
    "def add_ingestion_date(input_df):\n",
    "    output_df = input_df.withColumn(\"ingestion_date\", current_timestamp())\n",
    "    return output_df"
   ]
  },
  {
   "cell_type": "code",
   "execution_count": 0,
   "metadata": {
    "application/vnd.databricks.v1+cell": {
     "cellMetadata": {
      "byteLimit": 2048000,
      "rowLimit": 10000
     },
     "inputWidgets": {},
     "nuid": "b729ae4b-d59f-418c-ac84-366c115fa1ab",
     "showTitle": false,
     "tableResultSettingsMap": {},
     "title": ""
    }
   },
   "outputs": [],
   "source": [
    "#En caso de que se ejecute el mismo Notebook, con las misma fecha del file_date, hay que evitar que se dupliquen los datos,\n",
    "# Para eso podemos eliminar la particion.\n",
    "#Por ejemplo si ejecutamos la particion 2024-12-23, dos veces, cuando se ejecuta por segunda vez, elimnamos la particion existente. Esto evita duplicados.\n",
    "\n",
    "#collect, se utiliza para cargar los datos en memoria\n",
    "def overwrite_partition(input_df,db_name,table_name,column_partition):\n",
    "    for item_list in input_df.select(f\"{column_partition}\").distinct().collect():\n",
    "        if (spark._jsparkSession.catalog().tableExists(f\"{db_name}.{table_name}\")): #Si la tabla movies existe,ejecuta la siguiente instruccion\n",
    "            spark.sql(f\"ALTER TABLE {db_name}.{table_name} DROP IF EXISTS PARTITION ({column_partition} = '{item_list[column_partition]}')\")"
   ]
  },
  {
   "cell_type": "code",
   "execution_count": 0,
   "metadata": {
    "application/vnd.databricks.v1+cell": {
     "cellMetadata": {
      "byteLimit": 2048000,
      "rowLimit": 10000
     },
     "inputWidgets": {},
     "nuid": "02ebecfc-943f-4e88-8842-77e8f66eac5b",
     "showTitle": false,
     "tableResultSettingsMap": {},
     "title": ""
    }
   },
   "outputs": [],
   "source": [
    "\n",
    "# Cuando se tengan coincidencias en \"tgt.movie_id = src.movie_id\"\" (whenMatchedUpdateAll()). Pues actuliza todos los valores de las columnas. Es decir en la tabla tgt se va a proceder a actualizar todos los registros en base a la tabla de origen (movies_final_df).\n",
    "\n",
    "# Si no hay concidencias (whenNotMatchedInsertAll()), pues se insertan todos los registros en la tabla tgt.\n",
    "# Es decir, se ingresar los registros de movies_final_df a la tabla tgt.\n",
    "from delta.tables import DeltaTable\n",
    "\n",
    "def merge_delta_lake(input_df,db_name,table_name,folder_path, merge_condition, partition_column):\n",
    "\n",
    "    if(spark._jsparkSession.catalog().tableExists(f\"{db_name}.{table_name}\")):\n",
    "\n",
    "        deltaTable = DeltaTable.forPath(spark,f\"{folder_path}/{table_name}\")\n",
    "\n",
    "        deltaTable.alias(\"tgt\") \\\n",
    "            .merge(\n",
    "                input_df.alias(\"src\"),\n",
    "                merge_condition # Buscar por particion\n",
    "            ) \\\n",
    "            .whenMatchedUpdateAll() \\\n",
    "            .whenNotMatchedInsertAll() \\\n",
    "            .execute()\n",
    "    else:\n",
    "        input_df.write.mode(\"overwrite\").partitionBy(partition_column).format(\"delta\").saveAsTable(f\"{db_name}.{table_name}\")"
   ]
  }
 ],
 "metadata": {
  "application/vnd.databricks.v1+notebook": {
   "computePreferences": null,
   "dashboards": [],
   "environmentMetadata": {
    "base_environment": "",
    "environment_version": "2"
   },
   "inputWidgetPreferences": null,
   "language": "python",
   "notebookMetadata": {
    "pythonIndentUnit": 4
   },
   "notebookName": "commom_functions",
   "widgets": {}
  },
  "language_info": {
   "name": "python"
  }
 },
 "nbformat": 4,
 "nbformat_minor": 0
}
