{
 "cells": [
  {
   "cell_type": "markdown",
   "metadata": {
    "application/vnd.databricks.v1+cell": {
     "cellMetadata": {
      "byteLimit": 2048000,
      "rowLimit": 10000
     },
     "inputWidgets": {},
     "nuid": "5255deea-04c4-49a1-931b-ab97c948044e",
     "showTitle": false,
     "tableResultSettingsMap": {},
     "title": ""
    }
   },
   "source": [
    "#### Se requiere obtener informacion de \"peliculas\", el \"Pais\" donde se realizo la grabacion y cual fue la \"productora\" encargada de realizarlo.\n",
    "#### La informacion debe ser apartir de año 2010 en adelante de la fecha de lanzamiento, ordenado de  manera descendente por el \"titulo\" de la pelicula\n",
    "\n",
    "- De la pelicula se requiere mostrar el \"titulo\", el \"presupuesto\", los \"ingresos obtenidos\", \"tiempo de duracion\" y \"fecha de lanzamiento\"\n",
    "- De \"Pais\" se requiere mostrar el \"nombre del pais\"\n",
    "- De \"Productora\" se requiere el \"nombre de la productora\""
   ]
  },
  {
   "cell_type": "markdown",
   "metadata": {
    "application/vnd.databricks.v1+cell": {
     "cellMetadata": {
      "byteLimit": 2048000,
      "rowLimit": 10000
     },
     "inputWidgets": {},
     "nuid": "55cc1349-a711-464f-94de-70713b3346be",
     "showTitle": false,
     "tableResultSettingsMap": {},
     "title": ""
    }
   },
   "source": [
    "#### Leer todos los datos que son requeridos"
   ]
  },
  {
   "cell_type": "markdown",
   "metadata": {
    "application/vnd.databricks.v1+cell": {
     "cellMetadata": {
      "byteLimit": 2048000,
      "rowLimit": 10000
     },
     "inputWidgets": {},
     "nuid": "306472f7-9401-4592-bcc4-e8f69ef9e447",
     "showTitle": false,
     "tableResultSettingsMap": {},
     "title": ""
    }
   },
   "source": [
    "##### Estas son las DataFrames o Tablas a leer\n",
    "- movie\n",
    "- country\n",
    "- production_country\n",
    "- movie_company\n",
    "- production_company"
   ]
  },
  {
   "cell_type": "code",
   "execution_count": 0,
   "metadata": {
    "application/vnd.databricks.v1+cell": {
     "cellMetadata": {
      "byteLimit": 2048000,
      "rowLimit": 10000
     },
     "inputWidgets": {},
     "nuid": "ca65b48c-b4e7-4b04-8bd6-cdda11973172",
     "showTitle": false,
     "tableResultSettingsMap": {},
     "title": ""
    }
   },
   "outputs": [],
   "source": [
    "dbutils.widgets.text(\"p_file_date\",\"2024-12-30\")\n",
    "v_file_date = dbutils.widgets.get(\"p_file_date\")"
   ]
  },
  {
   "cell_type": "code",
   "execution_count": 0,
   "metadata": {
    "application/vnd.databricks.v1+cell": {
     "cellMetadata": {
      "byteLimit": 2048000,
      "rowLimit": 10000
     },
     "inputWidgets": {},
     "nuid": "6f402269-d302-4ff1-8bd7-e615d425c675",
     "showTitle": false,
     "tableResultSettingsMap": {},
     "title": ""
    }
   },
   "outputs": [],
   "source": [
    "%run \"../includes/configuration\""
   ]
  },
  {
   "cell_type": "code",
   "execution_count": 0,
   "metadata": {
    "application/vnd.databricks.v1+cell": {
     "cellMetadata": {
      "byteLimit": 2048000,
      "rowLimit": 10000
     },
     "inputWidgets": {},
     "nuid": "a92e0565-4b42-422a-82be-21e03c2c495f",
     "showTitle": false,
     "tableResultSettingsMap": {},
     "title": ""
    }
   },
   "outputs": [],
   "source": [
    "%run \"../includes/commom_functions\""
   ]
  },
  {
   "cell_type": "code",
   "execution_count": 0,
   "metadata": {
    "application/vnd.databricks.v1+cell": {
     "cellMetadata": {
      "byteLimit": 2048000,
      "rowLimit": 10000
     },
     "inputWidgets": {},
     "nuid": "1c53867d-1653-4109-8047-ea30597760b0",
     "showTitle": false,
     "tableResultSettingsMap": {},
     "title": ""
    }
   },
   "outputs": [],
   "source": [
    "#movies_df = spark.read.parquet(f\"{silver_folder_path}/movies\") \\\n",
    "#            .filter(f\"file_date = '{v_file_date}'\")\n",
    "\n",
    "#Modulo: Delta Lake\n",
    "movies_df = spark.read.format(\"delta\").load(f\"{silver_folder_path}/movies\") \\\n",
    "            .filter(f\"file_date = '{v_file_date}'\")"
   ]
  },
  {
   "cell_type": "code",
   "execution_count": 0,
   "metadata": {
    "application/vnd.databricks.v1+cell": {
     "cellMetadata": {
      "byteLimit": 2048000,
      "rowLimit": 10000
     },
     "inputWidgets": {},
     "nuid": "a7e3db34-e3a1-4c56-adb1-2609bf9167f9",
     "showTitle": false,
     "tableResultSettingsMap": {},
     "title": ""
    }
   },
   "outputs": [],
   "source": [
    "#country_df = spark.read.parquet(f\"{silver_folder_path}/countries\")\n",
    "\n",
    "# Modulo: Delta Lake\n",
    "country_df = spark.read.format(\"delta\").load(f\"{silver_folder_path}/countries\")"
   ]
  },
  {
   "cell_type": "code",
   "execution_count": 0,
   "metadata": {
    "application/vnd.databricks.v1+cell": {
     "cellMetadata": {
      "byteLimit": 2048000,
      "rowLimit": 10000
     },
     "inputWidgets": {},
     "nuid": "b16d5620-f516-45cb-b41f-6241683f6418",
     "showTitle": false,
     "tableResultSettingsMap": {},
     "title": ""
    }
   },
   "outputs": [],
   "source": [
    "#movie_company_df = spark.read.parquet(f\"{silver_folder_path}/movies_companies\") \\\n",
    "#            .filter(f\"file_date = '{v_file_date}'\")\n",
    "      \n",
    "#Modulo: Delta Lake\n",
    "movie_company_df = spark.read.format(\"delta\").load(f\"{silver_folder_path}/movies_companies\") \\\n",
    "            .filter(f\"file_date = '{v_file_date}'\")"
   ]
  },
  {
   "cell_type": "code",
   "execution_count": 0,
   "metadata": {
    "application/vnd.databricks.v1+cell": {
     "cellMetadata": {
      "byteLimit": 2048000,
      "rowLimit": 10000
     },
     "inputWidgets": {},
     "nuid": "015ba0c0-bd1c-442f-9bde-088f80ced472",
     "showTitle": false,
     "tableResultSettingsMap": {},
     "title": ""
    }
   },
   "outputs": [],
   "source": [
    "#production_country_df = spark.read.parquet(f\"{silver_folder_path}/productions_countries\") \\\n",
    "#            .filter(f\"file_date = '{v_file_date}'\")\n",
    "      \n",
    "#Modulo: Delta Lake\n",
    "production_country_df = spark.read.format(\"delta\").load(f\"{silver_folder_path}/productions_countries\") \\\n",
    "            .filter(f\"file_date = '{v_file_date}'\")"
   ]
  },
  {
   "cell_type": "code",
   "execution_count": 0,
   "metadata": {
    "application/vnd.databricks.v1+cell": {
     "cellMetadata": {
      "byteLimit": 2048000,
      "rowLimit": 10000
     },
     "inputWidgets": {},
     "nuid": "0c98c34f-d10f-46b8-8187-edf2c92acc47",
     "showTitle": false,
     "tableResultSettingsMap": {},
     "title": ""
    }
   },
   "outputs": [],
   "source": [
    "#production_company_df = spark.read.parquet(f\"{silver_folder_path}/productions_companies\") \\\n",
    "#            .filter(f\"file_date = '{v_file_date}'\")\n",
    "\n",
    "#Modulo: Delta Lake\n",
    "production_company_df = spark.read.format(\"delta\").load(f\"{silver_folder_path}/productions_companies\") \\\n",
    "            .filter(f\"file_date = '{v_file_date}'\")"
   ]
  },
  {
   "cell_type": "markdown",
   "metadata": {
    "application/vnd.databricks.v1+cell": {
     "cellMetadata": {
      "byteLimit": 2048000,
      "rowLimit": 10000
     },
     "inputWidgets": {},
     "nuid": "2641380b-340f-4fee-a40a-6439af8a05c7",
     "showTitle": false,
     "tableResultSettingsMap": {},
     "title": ""
    }
   },
   "source": [
    "#### Join \"country\" y \"production_country\""
   ]
  },
  {
   "cell_type": "code",
   "execution_count": 0,
   "metadata": {
    "application/vnd.databricks.v1+cell": {
     "cellMetadata": {
      "byteLimit": 2048000,
      "rowLimit": 10000
     },
     "inputWidgets": {},
     "nuid": "71a2862f-5b5f-4906-962f-94f0259288ef",
     "showTitle": false,
     "tableResultSettingsMap": {},
     "title": ""
    }
   },
   "outputs": [],
   "source": [
    "country_prod_coun_df = country_df.join(production_country_df,\n",
    "                                         country_df.country_id == production_country_df.country_id,\n",
    "                                         'inner') \\\n",
    "                        .select(country_df.country_name,country_df.country_id, production_country_df.movie_id)"
   ]
  },
  {
   "cell_type": "markdown",
   "metadata": {
    "application/vnd.databricks.v1+cell": {
     "cellMetadata": {
      "byteLimit": 2048000,
      "rowLimit": 10000
     },
     "inputWidgets": {},
     "nuid": "7a00b481-11d7-4832-86cf-5b9d2c3d4181",
     "showTitle": false,
     "tableResultSettingsMap": {},
     "title": ""
    }
   },
   "source": [
    "#### Join \"production_company\" y \"movie_company\""
   ]
  },
  {
   "cell_type": "code",
   "execution_count": 0,
   "metadata": {
    "application/vnd.databricks.v1+cell": {
     "cellMetadata": {
      "byteLimit": 2048000,
      "rowLimit": 10000
     },
     "inputWidgets": {},
     "nuid": "559c470f-b62e-421b-a810-809cd092a86c",
     "showTitle": false,
     "tableResultSettingsMap": {},
     "title": ""
    }
   },
   "outputs": [],
   "source": [
    "prod_comp_mov_comp_df = production_company_df.join(movie_company_df,\n",
    "                                                         production_company_df.company_id == movie_company_df.company_id,\n",
    "                                                         \"inner\") \\\n",
    "                                .select(production_company_df.company_name,production_company_df.company_id, movie_company_df.movie_id)"
   ]
  },
  {
   "cell_type": "markdown",
   "metadata": {
    "application/vnd.databricks.v1+cell": {
     "cellMetadata": {
      "byteLimit": 2048000,
      "rowLimit": 10000
     },
     "inputWidgets": {},
     "nuid": "e875a4d2-7145-4761-a886-fa17f6d7bd75",
     "showTitle": false,
     "tableResultSettingsMap": {},
     "title": ""
    }
   },
   "source": [
    "#### Join \"movies_df\", \"country_prod_coun_df\" y \"prod_comp_mov_comp_df\""
   ]
  },
  {
   "cell_type": "markdown",
   "metadata": {
    "application/vnd.databricks.v1+cell": {
     "cellMetadata": {
      "byteLimit": 2048000,
      "rowLimit": 10000
     },
     "inputWidgets": {},
     "nuid": "34212fd4-9f02-4f53-a0b6-102041f90bc3",
     "showTitle": false,
     "tableResultSettingsMap": {},
     "title": ""
    }
   },
   "source": [
    "- Filtrar las peliculas donde su fecha de lanzamiento sea mahor o igual a 2010"
   ]
  },
  {
   "cell_type": "code",
   "execution_count": 0,
   "metadata": {
    "application/vnd.databricks.v1+cell": {
     "cellMetadata": {
      "byteLimit": 2048000,
      "rowLimit": 10000
     },
     "inputWidgets": {},
     "nuid": "57d1c209-399d-4945-b519-2db7832cfc29",
     "showTitle": false,
     "tableResultSettingsMap": {},
     "title": ""
    }
   },
   "outputs": [],
   "source": [
    "#Usamos expresion SQL\n",
    "movie_filter_df = movies_df.filter(\"year_release_date >=2010\")"
   ]
  },
  {
   "cell_type": "code",
   "execution_count": 0,
   "metadata": {
    "application/vnd.databricks.v1+cell": {
     "cellMetadata": {
      "byteLimit": 2048000,
      "rowLimit": 10000
     },
     "inputWidgets": {},
     "nuid": "8e56af79-6d83-491f-b01d-2c7e50b5a4f7",
     "showTitle": false,
     "tableResultSettingsMap": {},
     "title": ""
    }
   },
   "outputs": [],
   "source": [
    "result_movies_country_prod_company_df = movie_filter_df.join(country_prod_coun_df,\n",
    "                                                 movie_filter_df.movie_id == country_prod_coun_df.movie_id,\n",
    "                                                 \"inner\") \\\n",
    "                                                     .join(prod_comp_mov_comp_df,\n",
    "                                                movie_filter_df.movie_id == prod_comp_mov_comp_df.movie_id,\n",
    "                                                \"inner\")"
   ]
  },
  {
   "cell_type": "markdown",
   "metadata": {
    "application/vnd.databricks.v1+cell": {
     "cellMetadata": {
      "byteLimit": 2048000,
      "rowLimit": 10000
     },
     "inputWidgets": {},
     "nuid": "d791c734-40fb-48cc-a10a-ca29eb6adff5",
     "showTitle": false,
     "tableResultSettingsMap": {},
     "title": ""
    }
   },
   "source": [
    "- Agregar columna \"created_date\""
   ]
  },
  {
   "cell_type": "code",
   "execution_count": 0,
   "metadata": {
    "application/vnd.databricks.v1+cell": {
     "cellMetadata": {
      "byteLimit": 2048000,
      "rowLimit": 10000
     },
     "inputWidgets": {},
     "nuid": "645dcd14-bc13-47c8-828d-7e7e1f730748",
     "showTitle": false,
     "tableResultSettingsMap": {},
     "title": ""
    }
   },
   "outputs": [],
   "source": [
    "from pyspark.sql.functions import lit"
   ]
  },
  {
   "cell_type": "code",
   "execution_count": 0,
   "metadata": {
    "application/vnd.databricks.v1+cell": {
     "cellMetadata": {
      "byteLimit": 2048000,
      "rowLimit": 10000
     },
     "inputWidgets": {},
     "nuid": "605b7c67-fef1-4b9c-8fb8-c7e559043dc5",
     "showTitle": false,
     "tableResultSettingsMap": {},
     "title": ""
    }
   },
   "outputs": [],
   "source": [
    "result_df = result_movies_country_prod_company_df \\\n",
    "            .select(movie_filter_df.movie_id,\"country_id\",\"company_id\",\"title\",\"budget\",\"revenue\",\"duration_time\",\"release_date\",\"country_name\",\"company_name\") \\\n",
    "            .withColumn(\"created_date\", lit(v_file_date))"
   ]
  },
  {
   "cell_type": "markdown",
   "metadata": {
    "application/vnd.databricks.v1+cell": {
     "cellMetadata": {
      "byteLimit": 2048000,
      "rowLimit": 10000
     },
     "inputWidgets": {},
     "nuid": "d5ef7ece-0964-4d76-8dc7-1c02b39b33b5",
     "showTitle": false,
     "tableResultSettingsMap": {},
     "title": ""
    }
   },
   "source": [
    "- Ordenar por la columna \"title\" de manera descendente"
   ]
  },
  {
   "cell_type": "code",
   "execution_count": 0,
   "metadata": {
    "application/vnd.databricks.v1+cell": {
     "cellMetadata": {
      "byteLimit": 2048000,
      "rowLimit": 10000
     },
     "inputWidgets": {},
     "nuid": "1b547372-614b-40fb-844b-d42ae4721495",
     "showTitle": false,
     "tableResultSettingsMap": {},
     "title": ""
    }
   },
   "outputs": [],
   "source": [
    "results_order_by_df = result_df.orderBy(result_df.title.desc())"
   ]
  },
  {
   "cell_type": "code",
   "execution_count": 0,
   "metadata": {
    "application/vnd.databricks.v1+cell": {
     "cellMetadata": {
      "byteLimit": 2048000,
      "rowLimit": 10000
     },
     "collapsed": true,
     "inputWidgets": {},
     "nuid": "cd272cb4-b2f1-4511-b086-81c1c3327a8a",
     "showTitle": false,
     "tableResultSettingsMap": {},
     "title": ""
    }
   },
   "outputs": [],
   "source": [
    "display(results_order_by_df) "
   ]
  },
  {
   "cell_type": "markdown",
   "metadata": {
    "application/vnd.databricks.v1+cell": {
     "cellMetadata": {
      "byteLimit": 2048000,
      "rowLimit": 10000
     },
     "inputWidgets": {},
     "nuid": "8a8cfcde-71f4-4e65-83a6-9c9b7f4b6df0",
     "showTitle": false,
     "tableResultSettingsMap": {},
     "title": ""
    }
   },
   "source": [
    "#### Escribir los datos en el DataLake en formato \"Delta\""
   ]
  },
  {
   "cell_type": "code",
   "execution_count": 0,
   "metadata": {
    "application/vnd.databricks.v1+cell": {
     "cellMetadata": {
      "byteLimit": 2048000,
      "rowLimit": 10000
     },
     "inputWidgets": {},
     "nuid": "a23e05f1-8dda-4628-90dd-68bdd0d5f15b",
     "showTitle": false,
     "tableResultSettingsMap": {},
     "title": ""
    }
   },
   "outputs": [],
   "source": [
    "#overwrite_partition(results_order_by_df,\"movie_gold\",\"results_country_prod_company\",\"created_date\")"
   ]
  },
  {
   "cell_type": "code",
   "execution_count": 0,
   "metadata": {
    "application/vnd.databricks.v1+cell": {
     "cellMetadata": {
      "byteLimit": 2048000,
      "rowLimit": 10000
     },
     "inputWidgets": {},
     "nuid": "5e6f48ef-fc99-4629-9342-1753e18851ae",
     "showTitle": false,
     "tableResultSettingsMap": {},
     "title": ""
    }
   },
   "outputs": [],
   "source": [
    "# results_order_by_df.write.mode(\"overwrite\").parquet(f\"{gold_folder_path}/results_country_prod_company\")\n",
    "\n",
    "# Crear una tabla en base al data frame results_order_by_df\n",
    "# Creara la tabla results_country_prod_company en a DB que se llame movie_gold\n",
    "# Modulo: Spark SQL - Database / Table / View: seccion: Crear Tabla - Capa Gold\n",
    "\n",
    "#results_order_by_df.write.mode(\"overwrite\").format(\"parquet\").saveAsTable(\"movie_gold.results_country_prod_company\")\n",
    "\n",
    "#Nota: Esto es una tabla administrada por Databricks, esto quiere decir que si la tabla se elimina, los registros tambien se van a eliminar\n",
    "# Append, agrega los registros a la tabla existente, carga incremental de datos\n",
    "#results_order_by_df.write.mode(\"append\").partitionBy(\"created_date\").format(\"parquet\").saveAsTable(\"movie_gold.results_country_prod_company\")\n",
    "\n",
    "\n",
    "#Modulo: Delta Lake\n",
    "merge_condition = \"tgt.movie_id = src.movie_id AND tgt.country_id = src.country_id AND tgt.company_id = src.company_id AND tgt.created_date = src.created_date\" # Buscar por particion\n",
    "merge_delta_lake(results_order_by_df,\"movie_gold\",\"results_country_prod_company\",gold_folder_path,merge_condition,\"created_date\")"
   ]
  },
  {
   "cell_type": "code",
   "execution_count": 0,
   "metadata": {
    "application/vnd.databricks.v1+cell": {
     "cellMetadata": {
      "byteLimit": 2048000,
      "implicitDf": true,
      "rowLimit": 10000
     },
     "inputWidgets": {},
     "nuid": "9773874c-16e4-42d8-8cf7-4d4c6ebc0a13",
     "showTitle": false,
     "tableResultSettingsMap": {},
     "title": ""
    }
   },
   "outputs": [],
   "source": [
    "%sql\n",
    "-- Consultar la DB movie_gold, tabla results_country_prod_company\n",
    "SELECT created_date, COUNT(1) FROM \n",
    "movie_gold.results_country_prod_company\n",
    "GROUP BY 1;"
   ]
  },
  {
   "cell_type": "code",
   "execution_count": 0,
   "metadata": {
    "application/vnd.databricks.v1+cell": {
     "cellMetadata": {
      "byteLimit": 2048000,
      "rowLimit": 10000
     },
     "inputWidgets": {},
     "nuid": "8b0e2d8e-0adb-4394-80aa-87c4516aff29",
     "showTitle": false,
     "tableResultSettingsMap": {},
     "title": ""
    }
   },
   "outputs": [],
   "source": [
    "#display(spark.read.parquet(f\"{gold_folder_path}/results_country_prod_company\"))\n",
    "display(spark.read.format(\"delta\").load(f\"{gold_folder_path}/results_country_prod_company\")) "
   ]
  },
  {
   "cell_type": "markdown",
   "metadata": {
    "application/vnd.databricks.v1+cell": {
     "cellMetadata": {
      "byteLimit": 2048000,
      "rowLimit": 10000
     },
     "inputWidgets": {},
     "nuid": "8c7b617e-03b0-4fbf-8e50-d65fe9b86e19",
     "showTitle": false,
     "tableResultSettingsMap": {},
     "title": ""
    }
   },
   "source": []
  }
 ],
 "metadata": {
  "application/vnd.databricks.v1+notebook": {
   "computePreferences": null,
   "dashboards": [],
   "environmentMetadata": {
    "base_environment": "",
    "environment_version": "2"
   },
   "inputWidgetPreferences": null,
   "language": "python",
   "notebookMetadata": {
    "mostRecentlyExecutedCommandWithImplicitDF": {
     "commandId": 1323525621452853,
     "dataframes": [
      "_sqldf"
     ]
    },
    "pythonIndentUnit": 4
   },
   "notebookName": "02.results_country_prod_company",
   "widgets": {
    "p_file_date": {
     "currentValue": "2024-12-30",
     "nuid": "d8506010-f8c0-4eef-8096-246df3d42988",
     "typedWidgetInfo": {
      "autoCreated": false,
      "defaultValue": "2024-12-30",
      "label": null,
      "name": "p_file_date",
      "options": {
       "widgetDisplayType": "Text",
       "validationRegex": null
      },
      "parameterDataType": "String"
     },
     "widgetInfo": {
      "widgetType": "text",
      "defaultValue": "2024-12-30",
      "label": null,
      "name": "p_file_date",
      "options": {
       "widgetType": "text",
       "autoCreated": null,
       "validationRegex": null
      }
     }
    }
   }
  },
  "language_info": {
   "name": "python"
  }
 },
 "nbformat": 4,
 "nbformat_minor": 0
}
