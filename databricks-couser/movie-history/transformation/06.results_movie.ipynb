{
 "cells": [
  {
   "cell_type": "markdown",
   "metadata": {
    "application/vnd.databricks.v1+cell": {
     "cellMetadata": {
      "byteLimit": 2048000,
      "rowLimit": 10000
     },
     "inputWidgets": {},
     "nuid": "7f99c5fe-af99-4f9b-8da4-0b1b0e7a960a",
     "showTitle": false,
     "tableResultSettingsMap": {},
     "title": ""
    }
   },
   "source": [
    "#### Crear la Tabla results_movie en la capa gold"
   ]
  },
  {
   "cell_type": "code",
   "execution_count": 0,
   "metadata": {
    "application/vnd.databricks.v1+cell": {
     "cellMetadata": {
      "byteLimit": 2048000,
      "rowLimit": 10000
     },
     "inputWidgets": {},
     "nuid": "1820d538-33c8-46be-a912-f13fbe466968",
     "showTitle": false,
     "tableResultSettingsMap": {},
     "title": ""
    }
   },
   "outputs": [],
   "source": [
    "dbutils.widgets.text(\"p_file_date\",\"2024-12-30\")\n",
    "v_file_date = dbutils.widgets.get(\"p_file_date\")"
   ]
  },
  {
   "cell_type": "code",
   "execution_count": 0,
   "metadata": {
    "application/vnd.databricks.v1+cell": {
     "cellMetadata": {
      "byteLimit": 2048000,
      "implicitDf": true,
      "rowLimit": 10000
     },
     "inputWidgets": {},
     "nuid": "e70d5739-3674-4daa-9d4c-04b376400325",
     "showTitle": false,
     "tableResultSettingsMap": {},
     "title": ""
    }
   },
   "outputs": [],
   "source": [
    "%sql\n",
    "USE movie_silver;"
   ]
  },
  {
   "cell_type": "code",
   "execution_count": 0,
   "metadata": {
    "application/vnd.databricks.v1+cell": {
     "cellMetadata": {
      "byteLimit": 2048000,
      "rowLimit": 10000
     },
     "inputWidgets": {},
     "nuid": "7e8bd1ec-d956-459a-aae0-1bc295d2bfc7",
     "showTitle": false,
     "tableResultSettingsMap": {},
     "title": ""
    }
   },
   "outputs": [],
   "source": [
    "spark.sql(\"\"\"\n",
    "          CREATE TABLE IF NOT EXISTS movie_gold.results_movie\n",
    "          (\n",
    "            year_release_date INT,\n",
    "            country_name STRING,\n",
    "            company_name STRING,\n",
    "            budget FLOAT,\n",
    "            revenue FLOAT,\n",
    "            movie_id INT,\n",
    "            country_id INT,\n",
    "            company_id INT,\n",
    "            created_date DATE,\n",
    "            updated_date DATE\n",
    "          )\n",
    "          USING DELTA\n",
    "          \"\"\")"
   ]
  },
  {
   "cell_type": "code",
   "execution_count": 0,
   "metadata": {
    "application/vnd.databricks.v1+cell": {
     "cellMetadata": {
      "byteLimit": 2048000,
      "rowLimit": 10000
     },
     "inputWidgets": {},
     "nuid": "0d81c860-0cde-4676-9db3-b5d8c6ed5436",
     "showTitle": false,
     "tableResultSettingsMap": {},
     "title": ""
    }
   },
   "outputs": [],
   "source": [
    "#No es optimo\n",
    "# %sql\n",
    "# CREATE TABLE movie_gold.results_movie\n",
    "# USING parquet -- para guardar en formato parquet\n",
    "# AS\n",
    "# SELECT M.year_release_date, C.country_name, PCO.company_name,\n",
    "#        M.budget, M.revenue\n",
    "# FROM movies M\n",
    "# INNER JOIN productions_countries PC ON M.movie_id = PC.movie_id\n",
    "# INNER JOIN countries C ON C.country_id = PC.country_id\n",
    "# INNER JOIN movies_companies MC ON M.movie_id = MC.movie_id\n",
    "# INNER JOIN productions_companies PCO ON MC.company_id = PCO.company_id"
   ]
  },
  {
   "cell_type": "code",
   "execution_count": 0,
   "metadata": {
    "application/vnd.databricks.v1+cell": {
     "cellMetadata": {
      "byteLimit": 2048000,
      "rowLimit": 10000
     },
     "inputWidgets": {},
     "nuid": "3c1f55a9-7622-46d6-924d-7705aad7d677",
     "showTitle": false,
     "tableResultSettingsMap": {},
     "title": ""
    }
   },
   "outputs": [],
   "source": [
    "spark.sql(f\"\"\"\n",
    "            CREATE OR REPLACE TEMP VIEW v_results_movie\n",
    "            AS\n",
    "            SELECT M.year_release_date, C.country_name, PCO.company_name,\n",
    "                M.budget, M.revenue, M.movie_id, C.country_id, PCO.company_id\n",
    "            FROM movie_silver.movies M\n",
    "            INNER JOIN movie_silver.productions_countries PC ON M.movie_id = PC.movie_id\n",
    "            INNER JOIN movie_silver.countries C ON C.country_id = PC.country_id\n",
    "            INNER JOIN movie_silver.movies_companies MC ON M.movie_id = MC.movie_id\n",
    "            INNER JOIN movie_silver.productions_companies PCO ON MC.company_id = PCO.company_id\n",
    "            WHERE M.file_date = '{v_file_date}'\n",
    "\"\"\")"
   ]
  },
  {
   "cell_type": "code",
   "execution_count": 0,
   "metadata": {
    "application/vnd.databricks.v1+cell": {
     "cellMetadata": {
      "byteLimit": 2048000,
      "implicitDf": true,
      "rowLimit": 10000
     },
     "collapsed": true,
     "inputWidgets": {},
     "nuid": "807cabe7-7154-4335-8231-f84856c914cc",
     "showTitle": false,
     "tableResultSettingsMap": {},
     "title": ""
    }
   },
   "outputs": [],
   "source": [
    "%sql\n",
    "SELECT * FROM v_results_movie;"
   ]
  },
  {
   "cell_type": "code",
   "execution_count": 0,
   "metadata": {
    "application/vnd.databricks.v1+cell": {
     "cellMetadata": {
      "byteLimit": 2048000,
      "implicitDf": true,
      "rowLimit": 10000
     },
     "inputWidgets": {},
     "nuid": "d14fb29d-e020-49c2-aaf1-d1471382d3f0",
     "showTitle": false,
     "tableResultSettingsMap": {},
     "title": ""
    }
   },
   "outputs": [],
   "source": [
    "spark.sql(f\"\"\"\n",
    "            MERGE INTO movie_gold.results_movie AS tgt --tabla destino\n",
    "            USING v_results_movie AS src-- tabla origen (Vista)\n",
    "            ON (tgt.movie_id = src.movie_id AND \n",
    "                tgt.country_id = src.country_id AND\n",
    "                tgt.company_id = src.company_id)\n",
    "            WHEN MATCHED THEN\n",
    "                UPDATE SET\n",
    "                tgt.year_release_date = src.year_release_date,\n",
    "                tgt.country_name = src.country_name,\n",
    "                tgt.company_name = src.company_name,\n",
    "                tgt.budget = src.budget,\n",
    "                tgt.revenue = src.revenue,\n",
    "                tgt.updated_date = current_timestamp\n",
    "            WHEN NOT MATCHED THEN\n",
    "                INSERT (year_release_date, country_name, company_name, budget, revenue, movie_id, country_id, company_id, created_date)\n",
    "                VALUES (year_release_date, country_name, company_name, budget, revenue, movie_id, country_id, company_id, current_timestamp)\n",
    "\"\"\")"
   ]
  },
  {
   "cell_type": "code",
   "execution_count": 0,
   "metadata": {
    "application/vnd.databricks.v1+cell": {
     "cellMetadata": {
      "byteLimit": 2048000,
      "implicitDf": true,
      "rowLimit": 10000
     },
     "inputWidgets": {},
     "nuid": "d5846013-a7f3-47a6-ba2e-e51249aceebe",
     "showTitle": false,
     "tableResultSettingsMap": {},
     "title": ""
    }
   },
   "outputs": [],
   "source": [
    "%sql\n",
    "SELECT COUNT(1) FROM v_results_movie;"
   ]
  },
  {
   "cell_type": "code",
   "execution_count": 0,
   "metadata": {
    "application/vnd.databricks.v1+cell": {
     "cellMetadata": {
      "byteLimit": 2048000,
      "implicitDf": true,
      "rowLimit": 10000
     },
     "inputWidgets": {},
     "nuid": "5f0394e8-7322-4251-ab63-7d74ef9edc93",
     "showTitle": false,
     "tableResultSettingsMap": {},
     "title": ""
    }
   },
   "outputs": [],
   "source": [
    "%sql\n",
    "SELECT COUNT(1) FROM movie_gold.results_movie;"
   ]
  }
 ],
 "metadata": {
  "application/vnd.databricks.v1+notebook": {
   "computePreferences": null,
   "dashboards": [],
   "environmentMetadata": {
    "base_environment": "",
    "environment_version": "2"
   },
   "inputWidgetPreferences": null,
   "language": "python",
   "notebookMetadata": {
    "mostRecentlyExecutedCommandWithImplicitDF": {
     "commandId": 322475455231286,
     "dataframes": [
      "_sqldf"
     ]
    },
    "pythonIndentUnit": 4
   },
   "notebookName": "06.results_movie",
   "widgets": {
    "p_file_date": {
     "currentValue": "2024-12-16",
     "nuid": "0686789d-66e4-4c5d-b1dc-dc0e07d06ad4",
     "typedWidgetInfo": {
      "autoCreated": false,
      "defaultValue": "2024-12-30",
      "label": null,
      "name": "p_file_date",
      "options": {
       "widgetDisplayType": "Text",
       "validationRegex": null
      },
      "parameterDataType": "String"
     },
     "widgetInfo": {
      "widgetType": "text",
      "defaultValue": "2024-12-30",
      "label": null,
      "name": "p_file_date",
      "options": {
       "widgetType": "text",
       "autoCreated": null,
       "validationRegex": null
      }
     }
    }
   }
  },
  "language_info": {
   "name": "python"
  }
 },
 "nbformat": 4,
 "nbformat_minor": 0
}
