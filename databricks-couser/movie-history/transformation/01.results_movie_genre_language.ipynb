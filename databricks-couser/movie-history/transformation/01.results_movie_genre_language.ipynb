{
 "cells": [
  {
   "cell_type": "markdown",
   "metadata": {
    "application/vnd.databricks.v1+cell": {
     "cellMetadata": {
      "byteLimit": 2048000,
      "rowLimit": 10000
     },
     "inputWidgets": {},
     "nuid": "11390dc5-7be0-4fd9-9a3e-8d652e3a9f2e",
     "showTitle": false,
     "tableResultSettingsMap": {},
     "title": ""
    }
   },
   "source": [
    "##### Se requiere obtener informacion de las \"peliculas\" del año 2000 en adelante ordenado de manera descendete por la fecha de lanzamiento, se debe considerar su respectivo \"genero\" y su \"idioma\" que se encuentra en dicha pelicula.\n",
    "\n",
    "1. De la pelicula se requiere mostrar el \"titulo, el tiempo de duracion, fecha lanzamiento y el voto promedio\"\n",
    "2. Del idioma se requiere mostrar el  nombre del idioma\n",
    "3. Del genero mostrar el nombre del genero"
   ]
  },
  {
   "cell_type": "markdown",
   "metadata": {
    "application/vnd.databricks.v1+cell": {
     "cellMetadata": {
      "byteLimit": 2048000,
      "rowLimit": 10000
     },
     "inputWidgets": {},
     "nuid": "234ed77f-9f72-459f-b693-989e402f17ea",
     "showTitle": false,
     "tableResultSettingsMap": {},
     "title": ""
    }
   },
   "source": [
    "#### Leer todos los datos que son requeridos"
   ]
  },
  {
   "cell_type": "code",
   "execution_count": 0,
   "metadata": {
    "application/vnd.databricks.v1+cell": {
     "cellMetadata": {
      "byteLimit": 2048000,
      "rowLimit": 10000
     },
     "inputWidgets": {},
     "nuid": "c4bcc753-b8e0-4079-9452-f9bc4218e312",
     "showTitle": false,
     "tableResultSettingsMap": {},
     "title": ""
    }
   },
   "outputs": [],
   "source": [
    "dbutils.widgets.text(\"p_file_date\",\"2024-12-30\")\n",
    "v_file_date = dbutils.widgets.get(\"p_file_date\")"
   ]
  },
  {
   "cell_type": "code",
   "execution_count": 0,
   "metadata": {
    "application/vnd.databricks.v1+cell": {
     "cellMetadata": {
      "byteLimit": 2048000,
      "rowLimit": 10000
     },
     "inputWidgets": {},
     "nuid": "35dc2b5d-8e26-4ef4-89e7-77a7ec2c1681",
     "showTitle": false,
     "tableResultSettingsMap": {},
     "title": ""
    }
   },
   "outputs": [],
   "source": [
    "%run \"../includes/configuration\""
   ]
  },
  {
   "cell_type": "code",
   "execution_count": 0,
   "metadata": {
    "application/vnd.databricks.v1+cell": {
     "cellMetadata": {
      "byteLimit": 2048000,
      "rowLimit": 10000
     },
     "inputWidgets": {},
     "nuid": "e77c9eed-3d00-4e59-a04f-4ab570a0ddc7",
     "showTitle": false,
     "tableResultSettingsMap": {},
     "title": ""
    }
   },
   "outputs": [],
   "source": [
    "%run \"../includes/commom_functions\""
   ]
  },
  {
   "cell_type": "code",
   "execution_count": 0,
   "metadata": {
    "application/vnd.databricks.v1+cell": {
     "cellMetadata": {
      "byteLimit": 2048000,
      "rowLimit": 10000
     },
     "inputWidgets": {},
     "nuid": "8cc8ec0d-4478-451b-a8a6-5681c716d91d",
     "showTitle": false,
     "tableResultSettingsMap": {},
     "title": ""
    }
   },
   "outputs": [],
   "source": [
    "# Por ser carga incremental  debemos fitrar por file_date.\n",
    "# Ya que esta particiondo por file_date\n",
    "#movies_df = spark.read.parquet(f\"{silver_folder_path}/movies\") \\\n",
    "#            .filter(f\"file_date = '{v_file_date}'\")\n",
    "\n",
    "#Modulo: Delta Lake\n",
    "\n",
    "movies_df = spark.read.format(\"delta\").load(f\"{silver_folder_path}/movies\") \\\n",
    "            .filter(f\"file_date = '{v_file_date}'\")"
   ]
  },
  {
   "cell_type": "code",
   "execution_count": 0,
   "metadata": {
    "application/vnd.databricks.v1+cell": {
     "cellMetadata": {
      "byteLimit": 2048000,
      "rowLimit": 10000
     },
     "inputWidgets": {},
     "nuid": "4b341dc9-5f69-4480-be34-5408c8c0fe10",
     "showTitle": false,
     "tableResultSettingsMap": {},
     "title": ""
    }
   },
   "outputs": [],
   "source": [
    "#language_df = spark.read.parquet(f\"{silver_folder_path}/languages\")\n",
    "\n",
    "# Modulo: Delta Lake\n",
    "\n",
    "language_df = spark.read.format(\"delta\").load(f\"{silver_folder_path}/languages\")"
   ]
  },
  {
   "cell_type": "code",
   "execution_count": 0,
   "metadata": {
    "application/vnd.databricks.v1+cell": {
     "cellMetadata": {
      "byteLimit": 2048000,
      "rowLimit": 10000
     },
     "inputWidgets": {},
     "nuid": "51ae11d1-a62e-4694-90a8-3b8b34b0e9f7",
     "showTitle": false,
     "tableResultSettingsMap": {},
     "title": ""
    }
   },
   "outputs": [],
   "source": [
    "# Por ser carga incremental  debemos fitrar por file_date.\n",
    "# Ya que esta particiondo por file_date\n",
    "#movies_languages_df = spark.read.parquet(f\"{silver_folder_path}/movies_languages\") \\\n",
    "#                     .filter(f\"file_date = '{v_file_date}'\")\n",
    "\n",
    "# Modulo : Delta Lake\n",
    "\n",
    "movies_languages_df = spark.read.format(\"delta\").load(f\"{silver_folder_path}/movies_languages\") \\\n",
    "                     .filter(f\"file_date = '{v_file_date}'\")"
   ]
  },
  {
   "cell_type": "code",
   "execution_count": 0,
   "metadata": {
    "application/vnd.databricks.v1+cell": {
     "cellMetadata": {
      "byteLimit": 2048000,
      "rowLimit": 10000
     },
     "inputWidgets": {},
     "nuid": "57b70adb-cbee-4a8e-8859-268a018c14a5",
     "showTitle": false,
     "tableResultSettingsMap": {},
     "title": ""
    }
   },
   "outputs": [],
   "source": [
    "#genres_df = spark.read.parquet(f\"{silver_folder_path}/genres\")\n",
    "\n",
    "# Modulo: Delta Lake\n",
    "genres_df = spark.read.format(\"delta\").load(f\"{silver_folder_path}/genres\")"
   ]
  },
  {
   "cell_type": "code",
   "execution_count": 0,
   "metadata": {
    "application/vnd.databricks.v1+cell": {
     "cellMetadata": {
      "byteLimit": 2048000,
      "rowLimit": 10000
     },
     "inputWidgets": {},
     "nuid": "ff6fe49a-abee-4a3c-a38b-b177a12d6074",
     "showTitle": false,
     "tableResultSettingsMap": {},
     "title": ""
    }
   },
   "outputs": [],
   "source": [
    "# Por ser carga incremental  debemos fitrar por file_date.\n",
    "# Ya que esta particiondo por file_date\n",
    "\n",
    "# movies_genres_df = spark.read.parquet(f\"{silver_folder_path}/movies_genres\") \\\n",
    "#            .filter(f\"file_date = '{v_file_date}'\")\n",
    "\n",
    "#Modulo: Delta Lake\n",
    "movies_genres_df = spark.read.format(\"delta\").load(f\"{silver_folder_path}/movies_genres\") \\\n",
    "            .filter(f\"file_date = '{v_file_date}'\")"
   ]
  },
  {
   "cell_type": "markdown",
   "metadata": {
    "application/vnd.databricks.v1+cell": {
     "cellMetadata": {
      "byteLimit": 2048000,
      "rowLimit": 10000
     },
     "inputWidgets": {},
     "nuid": "f554168c-d2b7-4680-8c3a-16a05c19dd7b",
     "showTitle": false,
     "tableResultSettingsMap": {},
     "title": ""
    }
   },
   "source": [
    "### Join \"languages\" y \"movies_languages\""
   ]
  },
  {
   "cell_type": "code",
   "execution_count": 0,
   "metadata": {
    "application/vnd.databricks.v1+cell": {
     "cellMetadata": {
      "byteLimit": 2048000,
      "rowLimit": 10000
     },
     "inputWidgets": {},
     "nuid": "43aa9816-76c3-4342-b7e3-b137b80bd336",
     "showTitle": false,
     "tableResultSettingsMap": {},
     "title": ""
    }
   },
   "outputs": [],
   "source": [
    "languages_mov_lan_df = language_df.join(movies_languages_df, \n",
    "                                        language_df.language_id == movies_languages_df.language_id,\n",
    "                                        'inner') \\\n",
    "                      .select(language_df.language_name, language_df.language_id ,movies_languages_df.movie_id)"
   ]
  },
  {
   "cell_type": "markdown",
   "metadata": {
    "application/vnd.databricks.v1+cell": {
     "cellMetadata": {
      "byteLimit": 2048000,
      "rowLimit": 10000
     },
     "inputWidgets": {},
     "nuid": "3dc75971-18e0-4469-ba50-0c504c0da3aa",
     "showTitle": false,
     "tableResultSettingsMap": {},
     "title": ""
    }
   },
   "source": [
    "#### Join \"genres\" y \"movies_genres\""
   ]
  },
  {
   "cell_type": "code",
   "execution_count": 0,
   "metadata": {
    "application/vnd.databricks.v1+cell": {
     "cellMetadata": {
      "byteLimit": 2048000,
      "rowLimit": 10000
     },
     "inputWidgets": {},
     "nuid": "5157f0d3-6499-4205-82fe-864c09704c48",
     "showTitle": false,
     "tableResultSettingsMap": {},
     "title": ""
    }
   },
   "outputs": [],
   "source": [
    "genres_mov_gen_df = genres_df.join(movies_genres_df,\n",
    "                                    genres_df.genre_id == movies_genres_df.genre_id,\n",
    "                                    \"inner\") \\\n",
    "                    .select(genres_df.genre_name, genres_df.genre_id ,movies_genres_df.movie_id)"
   ]
  },
  {
   "cell_type": "markdown",
   "metadata": {
    "application/vnd.databricks.v1+cell": {
     "cellMetadata": {
      "byteLimit": 2048000,
      "rowLimit": 10000
     },
     "inputWidgets": {},
     "nuid": "cc2250c9-35a3-4e35-b1a2-d5e7e4d9b1be",
     "showTitle": false,
     "tableResultSettingsMap": {},
     "title": ""
    }
   },
   "source": [
    "#### Join \"movies_df\", \"languages_mov_lan_df\" y \"genres_mov_lan_df\""
   ]
  },
  {
   "cell_type": "markdown",
   "metadata": {
    "application/vnd.databricks.v1+cell": {
     "cellMetadata": {
      "byteLimit": 2048000,
      "rowLimit": 10000
     },
     "inputWidgets": {},
     "nuid": "9c805bb4-a7da-4706-9b7f-f54ee201eec8",
     "showTitle": false,
     "tableResultSettingsMap": {},
     "title": ""
    }
   },
   "source": [
    "- Filtrar las peliculas donde su fecha de lanzamiento sea mahor o igual a 2000"
   ]
  },
  {
   "cell_type": "code",
   "execution_count": 0,
   "metadata": {
    "application/vnd.databricks.v1+cell": {
     "cellMetadata": {
      "byteLimit": 2048000,
      "rowLimit": 10000
     },
     "inputWidgets": {},
     "nuid": "c63ae3bd-3e16-41fe-aa0c-f02510cfc980",
     "showTitle": false,
     "tableResultSettingsMap": {},
     "title": ""
    }
   },
   "outputs": [],
   "source": [
    "#Usamos la expresion SQL \n",
    "movie_filter_df = movies_df.filter(\"year_release_date >= 2000\")"
   ]
  },
  {
   "cell_type": "code",
   "execution_count": 0,
   "metadata": {
    "application/vnd.databricks.v1+cell": {
     "cellMetadata": {
      "byteLimit": 2048000,
      "rowLimit": 10000
     },
     "inputWidgets": {},
     "nuid": "eec4cfeb-5716-49d8-be6a-64ff2e26dee4",
     "showTitle": false,
     "tableResultSettingsMap": {},
     "title": ""
    }
   },
   "outputs": [],
   "source": [
    "results_movie_genres_languages_df = movie_filter_df.join(languages_mov_lan_df,\n",
    "                                    movie_filter_df.movie_id == languages_mov_lan_df.movie_id,\n",
    "                                    \"inner\") \\\n",
    "                                                .join(genres_mov_gen_df,\n",
    "                                        movie_filter_df.movie_id == genres_mov_gen_df.movie_id,\n",
    "                                    \"inner\")"
   ]
  },
  {
   "cell_type": "markdown",
   "metadata": {
    "application/vnd.databricks.v1+cell": {
     "cellMetadata": {
      "byteLimit": 2048000,
      "rowLimit": 10000
     },
     "inputWidgets": {},
     "nuid": "14064580-4009-4706-a5f3-080cdc6ce0fb",
     "showTitle": false,
     "tableResultSettingsMap": {},
     "title": ""
    }
   },
   "source": [
    "- Agregar la columna \"created_date\""
   ]
  },
  {
   "cell_type": "code",
   "execution_count": 0,
   "metadata": {
    "application/vnd.databricks.v1+cell": {
     "cellMetadata": {
      "byteLimit": 2048000,
      "rowLimit": 10000
     },
     "inputWidgets": {},
     "nuid": "670f04d6-0b39-4823-883a-424d95b6928e",
     "showTitle": false,
     "tableResultSettingsMap": {},
     "title": ""
    }
   },
   "outputs": [],
   "source": [
    "from pyspark.sql.functions import lit"
   ]
  },
  {
   "cell_type": "code",
   "execution_count": 0,
   "metadata": {
    "application/vnd.databricks.v1+cell": {
     "cellMetadata": {
      "byteLimit": 2048000,
      "rowLimit": 10000
     },
     "inputWidgets": {},
     "nuid": "24fe3ba9-a6b5-45f0-993b-a6674c8f1021",
     "showTitle": false,
     "tableResultSettingsMap": {},
     "title": ""
    }
   },
   "outputs": [],
   "source": [
    "results_df = results_movie_genres_languages_df \\\n",
    "             .select(movie_filter_df.movie_id,\"language_id\",\"genre_id\",\"title\",\"duration_time\",\"release_date\",\"vote_average\",\"language_name\",\"genre_name\") \\\n",
    "             .withColumn(\"created_date\", lit(v_file_date))"
   ]
  },
  {
   "cell_type": "markdown",
   "metadata": {
    "application/vnd.databricks.v1+cell": {
     "cellMetadata": {
      "byteLimit": 2048000,
      "rowLimit": 10000
     },
     "inputWidgets": {},
     "nuid": "48d19668-87dd-4f74-b208-67fb7e21bbcc",
     "showTitle": false,
     "tableResultSettingsMap": {},
     "title": ""
    }
   },
   "source": [
    "- Ordenar por la columna \"release_date\" de manera descendente"
   ]
  },
  {
   "cell_type": "code",
   "execution_count": 0,
   "metadata": {
    "application/vnd.databricks.v1+cell": {
     "cellMetadata": {
      "byteLimit": 2048000,
      "rowLimit": 10000
     },
     "inputWidgets": {},
     "nuid": "e3bc2b4c-35e9-451a-b244-b883ce09c502",
     "showTitle": false,
     "tableResultSettingsMap": {},
     "title": ""
    }
   },
   "outputs": [],
   "source": [
    "results_order_by_df = results_df.orderBy(results_df.release_date.desc())"
   ]
  },
  {
   "cell_type": "code",
   "execution_count": 0,
   "metadata": {
    "application/vnd.databricks.v1+cell": {
     "cellMetadata": {
      "byteLimit": 2048000,
      "rowLimit": 10000
     },
     "collapsed": true,
     "inputWidgets": {},
     "nuid": "0c2a48d4-748f-4a7e-9fd3-2a488c19d015",
     "showTitle": false,
     "tableResultSettingsMap": {},
     "title": ""
    }
   },
   "outputs": [],
   "source": [
    "display(results_order_by_df)"
   ]
  },
  {
   "cell_type": "markdown",
   "metadata": {
    "application/vnd.databricks.v1+cell": {
     "cellMetadata": {
      "byteLimit": 2048000,
      "rowLimit": 10000
     },
     "inputWidgets": {},
     "nuid": "38f16229-9bb0-4873-8d6c-1a125ab8b6e5",
     "showTitle": false,
     "tableResultSettingsMap": {},
     "title": ""
    }
   },
   "source": [
    "#### Escribir los datos en el DataLake en formato \"Delta\""
   ]
  },
  {
   "cell_type": "code",
   "execution_count": 0,
   "metadata": {
    "application/vnd.databricks.v1+cell": {
     "cellMetadata": {
      "byteLimit": 2048000,
      "rowLimit": 10000
     },
     "inputWidgets": {},
     "nuid": "fb0759cd-7776-4414-b82e-518d0d4a4a44",
     "showTitle": false,
     "tableResultSettingsMap": {},
     "title": ""
    }
   },
   "outputs": [],
   "source": [
    "#overwrite_partition(results_order_by_df,\"movie_gold\",\"results_movie_genre_language\",\"created_date\")"
   ]
  },
  {
   "cell_type": "code",
   "execution_count": 0,
   "metadata": {
    "application/vnd.databricks.v1+cell": {
     "cellMetadata": {
      "byteLimit": 2048000,
      "rowLimit": 10000
     },
     "inputWidgets": {},
     "nuid": "e52c0520-527e-4524-9455-93917fc4765e",
     "showTitle": false,
     "tableResultSettingsMap": {},
     "title": ""
    }
   },
   "outputs": [],
   "source": [
    "# results_order_by_df.write.mode(\"overwrite\").parquet(f\"{gold_folder_path}/results_movie_genre_language\")\n",
    "\n",
    "# Crear una tabla en base al data frame results_order_by_df\n",
    "# Creara la tabla results_movie_genre_language en a DB que se llame movie_gold\n",
    "# Modulo: Spark SQL - Database / Table / View: seccion: Crear Tabla - Capa Gold\n",
    "#results_order_by_df.write.mode(\"overwrite\").format(\"parquet\").saveAsTable(\"movie_gold.results_movie_genre_language\")\n",
    "\n",
    "#Nota: Esto es una tabla administrada por Databricks, esto quiere decir que si la tabla se elimina, los registros tambien se van a eliminar\n",
    "# Append, agrega los registros a la tabla existente, carga incremental de datos\n",
    "\n",
    "#results_order_by_df.write.mode(\"append\").partitionBy(\"created_date\").format(\"parquet\").saveAsTable(\"movie_gold.results_movie_genre_language\")\n",
    "\n",
    "\n",
    "#Modulo: Delta Lake\n",
    "merge_condition = \"tgt.movie_id = src.movie_id AND tgt.language_id = src.language_id AND tgt.genre_id = src.genre_id AND tgt.created_date = src.created_date\" # Buscar por particion\n",
    "merge_delta_lake(results_order_by_df,\"movie_gold\",\"results_movie_genre_language\",gold_folder_path,merge_condition,\"created_date\")\n",
    "\n",
    "\n"
   ]
  },
  {
   "cell_type": "code",
   "execution_count": 0,
   "metadata": {
    "application/vnd.databricks.v1+cell": {
     "cellMetadata": {
      "byteLimit": 2048000,
      "implicitDf": true,
      "rowLimit": 10000
     },
     "inputWidgets": {},
     "nuid": "ae4e5551-675b-4d59-8f71-13068041fcbf",
     "showTitle": false,
     "tableResultSettingsMap": {},
     "title": ""
    }
   },
   "outputs": [],
   "source": [
    "%sql\n",
    "-- Consultar la DB movie_gold, la tabla results_movie_genre_language\n",
    "SELECT created_date, COUNT(1) \n",
    "FROM movie_gold.results_movie_genre_language\n",
    "GROUP BY 1;"
   ]
  },
  {
   "cell_type": "code",
   "execution_count": 0,
   "metadata": {
    "application/vnd.databricks.v1+cell": {
     "cellMetadata": {
      "byteLimit": 2048000,
      "rowLimit": 10000
     },
     "inputWidgets": {},
     "nuid": "2e75cedc-6ddc-449d-956b-2dc051e573e4",
     "showTitle": false,
     "tableResultSettingsMap": {},
     "title": ""
    }
   },
   "outputs": [],
   "source": [
    "#display(spark.read.parquet(f\"{gold_folder_path}/results_movie_genre_language\"))\n",
    "display(spark.read.format(\"delta\").load(f\"{gold_folder_path}/results_movie_genre_language\"))"
   ]
  }
 ],
 "metadata": {
  "application/vnd.databricks.v1+notebook": {
   "computePreferences": null,
   "dashboards": [],
   "environmentMetadata": {
    "base_environment": "",
    "environment_version": "2"
   },
   "inputWidgetPreferences": null,
   "language": "python",
   "notebookMetadata": {
    "mostRecentlyExecutedCommandWithImplicitDF": {
     "commandId": 1323525621452850,
     "dataframes": [
      "_sqldf"
     ]
    },
    "pythonIndentUnit": 4
   },
   "notebookName": "01.results_movie_genre_language",
   "widgets": {
    "p_file_date": {
     "currentValue": "2024-12-30",
     "nuid": "cc9e752e-c042-41fe-aa63-0124b977358c",
     "typedWidgetInfo": {
      "autoCreated": false,
      "defaultValue": "2024-12-30",
      "label": null,
      "name": "p_file_date",
      "options": {
       "widgetDisplayType": "Text",
       "validationRegex": null
      },
      "parameterDataType": "String"
     },
     "widgetInfo": {
      "widgetType": "text",
      "defaultValue": "2024-12-30",
      "label": null,
      "name": "p_file_date",
      "options": {
       "widgetType": "text",
       "autoCreated": null,
       "validationRegex": null
      }
     }
    }
   }
  },
  "language_info": {
   "name": "python"
  }
 },
 "nbformat": 4,
 "nbformat_minor": 0
}
