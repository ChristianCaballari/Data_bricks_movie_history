{
 "cells": [
  {
   "cell_type": "markdown",
   "metadata": {
    "application/vnd.databricks.v1+cell": {
     "cellMetadata": {},
     "inputWidgets": {},
     "nuid": "819a8002-e4f4-4810-9165-fb98878e0a78",
     "showTitle": false,
     "tableResultSettingsMap": {},
     "title": ""
    }
   },
   "source": [
    "#### Analisis sobre presupuesto e ingreso por pais."
   ]
  },
  {
   "cell_type": "code",
   "execution_count": 0,
   "metadata": {
    "application/vnd.databricks.v1+cell": {
     "cellMetadata": {
      "byteLimit": 2048000,
      "rowLimit": 10000
     },
     "inputWidgets": {},
     "nuid": "a80a71f6-24b9-4753-9a8e-065b37b1eb6a",
     "showTitle": false,
     "tableResultSettingsMap": {},
     "title": ""
    }
   },
   "outputs": [],
   "source": [
    "USE movie_gold;"
   ]
  },
  {
   "cell_type": "code",
   "execution_count": 0,
   "metadata": {
    "application/vnd.databricks.v1+cell": {
     "cellMetadata": {
      "byteLimit": 2048000,
      "rowLimit": 10000
     },
     "collapsed": true,
     "inputWidgets": {},
     "nuid": "f6997d1b-78f1-4817-b291-092b56e30647",
     "showTitle": false,
     "tableResultSettingsMap": {},
     "title": ""
    }
   },
   "outputs": [],
   "source": [
    "SELECT * FROM results_movie;"
   ]
  },
  {
   "cell_type": "code",
   "execution_count": 0,
   "metadata": {
    "application/vnd.databricks.v1+cell": {
     "cellMetadata": {
      "byteLimit": 2048000,
      "rowLimit": 10000
     },
     "inputWidgets": {},
     "nuid": "4d230c38-ca32-4331-87c1-3fc6a5c3cbcf",
     "showTitle": false,
     "tableResultSettingsMap": {},
     "title": ""
    }
   },
   "outputs": [],
   "source": [
    "SELECT country_name,\n",
    "       COUNT(country_name) AS total_movie,\n",
    "       SUM(budget) AS total_budget,\n",
    "       SUM(revenue) AS total_revenue\n",
    "FROM results_movie\n",
    "GROUP BY 1 -- country_name\n",
    "ORDER BY 3 DESC; -- total_budget"
   ]
  },
  {
   "cell_type": "code",
   "execution_count": 0,
   "metadata": {
    "application/vnd.databricks.v1+cell": {
     "cellMetadata": {
      "byteLimit": 2048000,
      "rowLimit": 10000
     },
     "inputWidgets": {},
     "nuid": "0f93996d-fb21-4f13-87af-cc12ea38c0aa",
     "showTitle": false,
     "tableResultSettingsMap": {},
     "title": ""
    }
   },
   "outputs": [],
   "source": [
    "SELECT country_name,\n",
    "       COUNT(country_name) AS total_movie,\n",
    "       SUM(budget) AS total_budget,\n",
    "       CAST(AVG(budget) AS DECIMAL(18,2)) AS avg_budget,--CASTEAR A 2 DECIMALES\n",
    "       SUM(revenue) AS total_revenue,\n",
    "       CAST(AVG(revenue) AS DECIMAL(18,2)) AS avg_revenue--CASTEAR A 2 DECIMALES\n",
    "FROM results_movie\n",
    "GROUP BY 1 -- country_name\n",
    "ORDER BY 3 DESC; -- total_budget"
   ]
  },
  {
   "cell_type": "code",
   "execution_count": 0,
   "metadata": {
    "application/vnd.databricks.v1+cell": {
     "cellMetadata": {
      "byteLimit": 2048000,
      "rowLimit": 10000
     },
     "inputWidgets": {},
     "nuid": "e6249735-c2dd-4d59-a272-3298ad0f2cb2",
     "showTitle": false,
     "tableResultSettingsMap": {},
     "title": ""
    }
   },
   "outputs": [],
   "source": [
    "SELECT country_name,\n",
    "       COUNT(country_name) AS total_movie,\n",
    "       SUM(budget) AS total_budget,\n",
    "       CAST(AVG(budget) AS DECIMAL(18,2)) AS avg_budget,--CASTEAR A 2 DECIMALES\n",
    "       SUM(revenue) AS total_revenue,\n",
    "       CAST(AVG(revenue) AS DECIMAL(18,2)) AS avg_revenue--CASTEAR A 2 DECIMALES\n",
    "FROM results_movie\n",
    "WHERE year_release_date BETWEEN 2010 AND 2015\n",
    "GROUP BY 1 -- country_name\n",
    "ORDER BY 3 DESC; -- total_budget"
   ]
  }
 ],
 "metadata": {
  "application/vnd.databricks.v1+notebook": {
   "computePreferences": null,
   "dashboards": [],
   "environmentMetadata": {
    "base_environment": "",
    "environment_version": "2"
   },
   "inputWidgetPreferences": null,
   "language": "sql",
   "notebookMetadata": {
    "pythonIndentUnit": 4
   },
   "notebookName": "01.budget_revenue_country",
   "widgets": {}
  },
  "language_info": {
   "name": "sql"
  }
 },
 "nbformat": 4,
 "nbformat_minor": 0
}
